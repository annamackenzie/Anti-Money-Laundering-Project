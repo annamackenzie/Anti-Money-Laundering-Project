{
 "cells": [
  {
   "cell_type": "markdown",
   "metadata": {
    "heading_collapsed": true
   },
   "source": [
    "# Setup"
   ]
  },
  {
   "cell_type": "code",
   "execution_count": 1,
   "metadata": {
    "hidden": true
   },
   "outputs": [],
   "source": [
    "import pandas as pd\n",
    "import numpy as np\n",
    "import matplotlib.pyplot as plt\n",
    "import seaborn as sns\n",
    "import math\n",
    "\n",
    "from tqdm import tqdm_notebook\n",
    "from datetime import datetime, timedelta\n",
    "from dateutil.relativedelta import relativedelta\n",
    "import re\n",
    "import copy\n",
    "import geopy.geocoders\n",
    "from geopy.geocoders import Nominatim\n",
    "import difflib\n",
    "from matplotlib.lines import Line2D"
   ]
  },
  {
   "cell_type": "code",
   "execution_count": 2,
   "metadata": {
    "hidden": true
   },
   "outputs": [],
   "source": [
    "# Load financial secrecy index file\n",
    "fsi_rankings = pd.read_excel('Resource_files/FSI-Rankings.xlsx')"
   ]
  },
  {
   "cell_type": "markdown",
   "metadata": {
    "heading_collapsed": true
   },
   "source": [
    "# Load in scraped data"
   ]
  },
  {
   "cell_type": "code",
   "execution_count": 3,
   "metadata": {
    "code_folding": [
     0
    ],
    "hidden": true
   },
   "outputs": [],
   "source": [
    "# Load positive cases\n",
    "ml_comps = pd.read_csv('ml_companies.csv')\n",
    "ml_officers = pd.read_csv('ml_officers.csv')\n",
    "ml_psc = pd.read_csv('ml_psc.csv')\n",
    "ml_filings = pd.read_csv('ml_filings.csv')"
   ]
  },
  {
   "cell_type": "code",
   "execution_count": 4,
   "metadata": {
    "code_folding": [
     0
    ],
    "hidden": true
   },
   "outputs": [],
   "source": [
    "# Load negative cases\n",
    "non_ml_comps = pd.read_csv('non_ml_companies.csv')\n",
    "non_ml_officers = pd.read_csv('non_ml_officers.csv')\n",
    "non_ml_psc = pd.read_csv('non_ml_psc.csv')\n",
    "non_ml_filings = pd.read_csv('non_ml_filings.csv')"
   ]
  },
  {
   "cell_type": "code",
   "execution_count": 5,
   "metadata": {
    "code_folding": [
     0
    ],
    "hidden": true
   },
   "outputs": [],
   "source": [
    "# Combine positive and negative samples\n",
    "comps_df = pd.concat([non_ml_comps, ml_comps], sort=False).reset_index(drop=True)\n",
    "officers_df = pd.concat([non_ml_officers, ml_officers], sort=False).reset_index(drop=True)\n",
    "psc_df = pd.concat([non_ml_psc, ml_psc], sort=False).reset_index(drop=True)\n",
    "filings_df = pd.concat([non_ml_filings, ml_filings], sort=False).reset_index(drop=True)"
   ]
  },
  {
   "cell_type": "code",
   "execution_count": 6,
   "metadata": {
    "code_folding": [
     0
    ],
    "hidden": true
   },
   "outputs": [
    {
     "data": {
      "text/plain": [
       "(4893, 12)"
      ]
     },
     "execution_count": 6,
     "metadata": {},
     "output_type": "execute_result"
    }
   ],
   "source": [
    "# Check shape of positive samples\n",
    "ml_comps.shape"
   ]
  },
  {
   "cell_type": "code",
   "execution_count": 7,
   "metadata": {
    "code_folding": [
     0
    ],
    "hidden": true
   },
   "outputs": [
    {
     "data": {
      "text/plain": [
       "(4893, 12)"
      ]
     },
     "execution_count": 7,
     "metadata": {},
     "output_type": "execute_result"
    }
   ],
   "source": [
    "# Check shape of negative samples\n",
    "non_ml_comps.shape"
   ]
  },
  {
   "cell_type": "markdown",
   "metadata": {
    "heading_collapsed": true
   },
   "source": [
    "# Clean companies data"
   ]
  },
  {
   "cell_type": "code",
   "execution_count": 8,
   "metadata": {
    "code_folding": [
     0
    ],
    "hidden": true
   },
   "outputs": [
    {
     "data": {
      "text/html": [
       "<div>\n",
       "<style scoped>\n",
       "    .dataframe tbody tr th:only-of-type {\n",
       "        vertical-align: middle;\n",
       "    }\n",
       "\n",
       "    .dataframe tbody tr th {\n",
       "        vertical-align: top;\n",
       "    }\n",
       "\n",
       "    .dataframe thead th {\n",
       "        text-align: right;\n",
       "    }\n",
       "</style>\n",
       "<table border=\"1\" class=\"dataframe\">\n",
       "  <thead>\n",
       "    <tr style=\"text-align: right;\">\n",
       "      <th></th>\n",
       "      <th>name</th>\n",
       "      <th>address</th>\n",
       "      <th>kind</th>\n",
       "      <th>company_number</th>\n",
       "      <th>creation_date</th>\n",
       "      <th>dissolved_date</th>\n",
       "      <th>active_officers</th>\n",
       "      <th>inactive_officers</th>\n",
       "      <th>resigned_officers</th>\n",
       "      <th>active_psc</th>\n",
       "      <th>ceased_psc</th>\n",
       "      <th>ml</th>\n",
       "    </tr>\n",
       "  </thead>\n",
       "  <tbody>\n",
       "    <tr>\n",
       "      <td>0</td>\n",
       "      <td>s &amp; r management consultants ltd</td>\n",
       "      <td>8 Moorland View Off Street Lane, Moortown Leed...</td>\n",
       "      <td>ltd</td>\n",
       "      <td>11074958</td>\n",
       "      <td>2017-11-21</td>\n",
       "      <td>NaN</td>\n",
       "      <td>2</td>\n",
       "      <td>0</td>\n",
       "      <td>0</td>\n",
       "      <td>1</td>\n",
       "      <td>0</td>\n",
       "      <td>0</td>\n",
       "    </tr>\n",
       "    <tr>\n",
       "      <td>1</td>\n",
       "      <td>shl solutions limited</td>\n",
       "      <td>17 Hedley Crescent Wakefield</td>\n",
       "      <td>ltd</td>\n",
       "      <td>08428171</td>\n",
       "      <td>2013-03-04</td>\n",
       "      <td>NaN</td>\n",
       "      <td>4</td>\n",
       "      <td>0</td>\n",
       "      <td>1</td>\n",
       "      <td>3</td>\n",
       "      <td>0</td>\n",
       "      <td>0</td>\n",
       "    </tr>\n",
       "  </tbody>\n",
       "</table>\n",
       "</div>"
      ],
      "text/plain": [
       "                               name  \\\n",
       "0  s & r management consultants ltd   \n",
       "1             shl solutions limited   \n",
       "\n",
       "                                             address kind company_number  \\\n",
       "0  8 Moorland View Off Street Lane, Moortown Leed...  ltd       11074958   \n",
       "1                       17 Hedley Crescent Wakefield  ltd       08428171   \n",
       "\n",
       "  creation_date dissolved_date  active_officers  inactive_officers  \\\n",
       "0    2017-11-21            NaN                2                  0   \n",
       "1    2013-03-04            NaN                4                  0   \n",
       "\n",
       "   resigned_officers  active_psc  ceased_psc  ml  \n",
       "0                  0           1           0   0  \n",
       "1                  1           3           0   0  "
      ]
     },
     "execution_count": 8,
     "metadata": {},
     "output_type": "execute_result"
    }
   ],
   "source": [
    "# Examine companies dataframe\n",
    "comps_df.head(2)"
   ]
  },
  {
   "cell_type": "code",
   "execution_count": 100,
   "metadata": {
    "code_folding": [
     0
    ],
    "hidden": true
   },
   "outputs": [
    {
     "data": {
      "text/plain": [
       "name                    0\n",
       "address                 1\n",
       "kind                    0\n",
       "company_number          0\n",
       "creation_date           0\n",
       "dissolved_date       6119\n",
       "active_officers         0\n",
       "inactive_officers       0\n",
       "resigned_officers       0\n",
       "active_psc              0\n",
       "ceased_psc              0\n",
       "ml                      0\n",
       "dtype: int64"
      ]
     },
     "execution_count": 100,
     "metadata": {},
     "output_type": "execute_result"
    }
   ],
   "source": [
    "# Check for null values\n",
    "comps_df.isnull().sum()"
   ]
  },
  {
   "cell_type": "code",
   "execution_count": 101,
   "metadata": {
    "code_folding": [
     0
    ],
    "hidden": true
   },
   "outputs": [],
   "source": [
    "# Replace dissolved date null values\n",
    "comps_df.address.fillna('na', inplace=True)"
   ]
  },
  {
   "cell_type": "code",
   "execution_count": 102,
   "metadata": {
    "code_folding": [
     0
    ],
    "hidden": true
   },
   "outputs": [],
   "source": [
    "# Convert all strings to lowercase\n",
    "comps_df['name'] = comps_df['name'].apply(lambda x: x.lower())\n",
    "comps_df['address'] = comps_df['address'].apply(lambda x: x.lower())"
   ]
  },
  {
   "cell_type": "code",
   "execution_count": 103,
   "metadata": {
    "code_folding": [
     0
    ],
    "hidden": true
   },
   "outputs": [
    {
     "data": {
      "application/vnd.jupyter.widget-view+json": {
       "model_id": "1077cb3c7ba64c1796dbda45768ef6fa",
       "version_major": 2,
       "version_minor": 0
      },
      "text/plain": [
       "HBox(children=(IntProgress(value=0, max=5065), HTML(value='')))"
      ]
     },
     "metadata": {},
     "output_type": "display_data"
    },
    {
     "name": "stdout",
     "output_type": "stream",
     "text": [
      "\n"
     ]
    }
   ],
   "source": [
    "# Group similar addresses\n",
    "# Common suffixes for street address\n",
    "street_alternatives =\\\n",
    "'street|road|drive|lane|close|way|court|avenue|square|parade|view|mews|place|grove|yard|park|crescent|str|gate'\n",
    "\n",
    "# Extract all unique addresses in use\n",
    "unique_addresses = comps_df.address.unique()\n",
    "\n",
    "# Define empty list for groupings of similar addresses\n",
    "address_groups = []\n",
    "\n",
    "# Iterate through unique addresses\n",
    "for i in tqdm_notebook(range(len(unique_addresses))):\n",
    "    # Define list for verified matches \n",
    "    select_matches = []\n",
    "    \n",
    "    # Select current address\n",
    "    unique_address = unique_addresses[i]\n",
    "    \n",
    "    # Formulat regex to extract street address\n",
    "    pattern = re.compile('([0-9-]+[a-z]?)[\\s]((?:\\D*?)(?:{}))'.format(street_alternatives))\n",
    "    \n",
    "    # Use fuzzy matching to create subset of similar addresses\n",
    "    matches = difflib.get_close_matches(unique_address, unique_addresses, n=10, cutoff=0.7)\n",
    "    \n",
    "    # For addresses with at least one match\n",
    "    if len(matches)>1:    \n",
    "        try:\n",
    "            # Extract street name and number\n",
    "            street = re.findall(pattern, unique_address)[0][1]\n",
    "            street_num = [re.findall(pattern, unique_address)[0][0]]\n",
    "\n",
    "            # For addresses with number range, extract both numbers\n",
    "            if '-' in street_num[0]:\n",
    "                street_num = street_num[0].split('-')\n",
    "\n",
    "            # Iterate through fuzzy matches\n",
    "            for match in matches:\n",
    "                # Verify that street name and number match and append to verified matches\n",
    "                if (street in match)&(any(num in match for num in street_num)): \n",
    "                    select_matches.append(match)\n",
    "        except:\n",
    "            pass\n",
    "        address_groups.append(select_matches)"
   ]
  },
  {
   "cell_type": "code",
   "execution_count": 104,
   "metadata": {
    "code_folding": [
     0
    ],
    "hidden": true
   },
   "outputs": [],
   "source": [
    "# Combine common all variation groups with common addresses\n",
    "merged = []\n",
    "address_mapper = {}\n",
    "\n",
    "# Iterate through groups of address variations\n",
    "for address_group in address_groups:\n",
    "    # Iterate through each variation\n",
    "    for i, merged_group in enumerate(merged):\n",
    "        # Check if any of the variations already in merged group\n",
    "        if any(address in merged_group for address in address_group):\n",
    "            # Only add variations which are not already in the merged group\n",
    "            new_addresses = [address for address in address_group if address not in merged_group]\n",
    "            merged[i] += new_addresses\n",
    "            break\n",
    "    else:\n",
    "        # If none of variations exist in merged group yet, add all\n",
    "        merged.append(address_group)\n",
    "\n",
    "# Create address mapper dictionary\n",
    "for i in range(len(merged)):\n",
    "    # For address groups with at least one variation\n",
    "    if len(merged[i])>1:\n",
    "        # Take the shortest variation to be the new universal address\n",
    "        val = sorted(merged[i], key=len)[0]\n",
    "        # Iterate through each variation\n",
    "        for key in merged[i]:\n",
    "            # Check it is not the same as the new name to replace with\n",
    "            if key != val:\n",
    "                # Map old variation to new replacement\n",
    "                address_mapper[key] = val\n",
    "    \n",
    "# Replace grouped similar address with single address\n",
    "comps_df.address.replace(address_mapper, inplace=True)"
   ]
  },
  {
   "cell_type": "code",
   "execution_count": 105,
   "metadata": {
    "code_folding": [
     0
    ],
    "hidden": true
   },
   "outputs": [],
   "source": [
    "# Convert dates to datetime\n",
    "comps_df.creation_date = pd.to_datetime(comps_df.creation_date, format='%Y-%m-%d')\n",
    "comps_df.dissolved_date = pd.to_datetime(comps_df.dissolved_date, format='%Y-%m-%d')"
   ]
  },
  {
   "cell_type": "code",
   "execution_count": 106,
   "metadata": {
    "code_folding": [
     0
    ],
    "hidden": true
   },
   "outputs": [],
   "source": [
    "# Reset index\n",
    "comps_df.reset_index(drop=True, inplace=True)"
   ]
  },
  {
   "cell_type": "markdown",
   "metadata": {
    "heading_collapsed": true
   },
   "source": [
    "# Clean officers data"
   ]
  },
  {
   "cell_type": "code",
   "execution_count": 107,
   "metadata": {
    "code_folding": [
     0
    ],
    "hidden": true
   },
   "outputs": [
    {
     "data": {
      "text/html": [
       "<div>\n",
       "<style scoped>\n",
       "    .dataframe tbody tr th:only-of-type {\n",
       "        vertical-align: middle;\n",
       "    }\n",
       "\n",
       "    .dataframe tbody tr th {\n",
       "        vertical-align: top;\n",
       "    }\n",
       "\n",
       "    .dataframe thead th {\n",
       "        text-align: right;\n",
       "    }\n",
       "</style>\n",
       "<table border=\"1\" class=\"dataframe\">\n",
       "  <thead>\n",
       "    <tr style=\"text-align: right;\">\n",
       "      <th></th>\n",
       "      <th>company_number</th>\n",
       "      <th>name</th>\n",
       "      <th>role</th>\n",
       "      <th>type</th>\n",
       "      <th>status</th>\n",
       "      <th>country</th>\n",
       "      <th>address</th>\n",
       "    </tr>\n",
       "  </thead>\n",
       "  <tbody>\n",
       "    <tr>\n",
       "      <td>0</td>\n",
       "      <td>11074958</td>\n",
       "      <td>HUSSAIN, Riffat</td>\n",
       "      <td>secretary</td>\n",
       "      <td>company</td>\n",
       "      <td>active</td>\n",
       "      <td>United Kingdom</td>\n",
       "      <td>Moorland View Off Street Lane, Moortown Leeds ...</td>\n",
       "    </tr>\n",
       "    <tr>\n",
       "      <td>1</td>\n",
       "      <td>11074958</td>\n",
       "      <td>HUSSAIN, Shahzad Ghulam</td>\n",
       "      <td>director</td>\n",
       "      <td>person</td>\n",
       "      <td>active</td>\n",
       "      <td>British</td>\n",
       "      <td>Moorland View Off Street Lane, Moortown Leeds ...</td>\n",
       "    </tr>\n",
       "  </tbody>\n",
       "</table>\n",
       "</div>"
      ],
      "text/plain": [
       "  company_number                     name       role     type  status  \\\n",
       "0       11074958          HUSSAIN, Riffat  secretary  company  active   \n",
       "1       11074958  HUSSAIN, Shahzad Ghulam   director   person  active   \n",
       "\n",
       "          country                                            address  \n",
       "0  United Kingdom  Moorland View Off Street Lane, Moortown Leeds ...  \n",
       "1         British  Moorland View Off Street Lane, Moortown Leeds ...  "
      ]
     },
     "execution_count": 107,
     "metadata": {},
     "output_type": "execute_result"
    }
   ],
   "source": [
    "# Examine officers dataframe\n",
    "officers_df.head(2)"
   ]
  },
  {
   "cell_type": "code",
   "execution_count": 108,
   "metadata": {
    "code_folding": [
     0
    ],
    "hidden": true
   },
   "outputs": [
    {
     "data": {
      "text/plain": [
       "company_number       0\n",
       "name                 0\n",
       "role                 0\n",
       "type                 0\n",
       "status               0\n",
       "country           3582\n",
       "address              3\n",
       "dtype: int64"
      ]
     },
     "execution_count": 108,
     "metadata": {},
     "output_type": "execute_result"
    }
   ],
   "source": [
    "# Check for null values\n",
    "officers_df.isnull().sum()"
   ]
  },
  {
   "cell_type": "code",
   "execution_count": 109,
   "metadata": {
    "code_folding": [
     0
    ],
    "hidden": true
   },
   "outputs": [],
   "source": [
    "# On inspection, all officers with missing address are people not companies so unlikely to have common address with other \n",
    "# officers, therefore opt to remove nulls for missing addresses\n",
    "officers_df.address.fillna('na', inplace=True)"
   ]
  },
  {
   "cell_type": "code",
   "execution_count": 110,
   "metadata": {
    "code_folding": [
     0
    ],
    "hidden": true
   },
   "outputs": [],
   "source": [
    "# Convert all strings to lowercase\n",
    "officers_df['name'] = officers_df['name'].apply(lambda x: x.lower())\n",
    "officers_df['role'] = officers_df['role'].apply(lambda x: x.lower())\n",
    "officers_df['address'] = officers_df['address'].apply(lambda x: x.lower())"
   ]
  },
  {
   "cell_type": "code",
   "execution_count": 111,
   "metadata": {
    "code_folding": [
     0
    ],
    "hidden": true
   },
   "outputs": [
    {
     "data": {
      "application/vnd.jupyter.widget-view+json": {
       "model_id": "fa548129354c4e769ad6154674fdb836",
       "version_major": 2,
       "version_minor": 0
      },
      "text/plain": [
       "HBox(children=(IntProgress(value=0, max=35875), HTML(value='')))"
      ]
     },
     "metadata": {},
     "output_type": "display_data"
    },
    {
     "name": "stdout",
     "output_type": "stream",
     "text": [
      "\n"
     ]
    }
   ],
   "source": [
    "# Infer missing countries\n",
    "# Turn off timeout\n",
    "geopy.geocoders.options.default_timeout = None\n",
    "geolocator = Nominatim(user_agent=\"geo_locator\")\n",
    "\n",
    "# Reset index\n",
    "officers_df.reset_index(drop=True, inplace=True)\n",
    "\n",
    "# Iterate through officers\n",
    "for i in tqdm_notebook(range(officers_df.shape[0])):\n",
    "    # Check if country is null or blank\n",
    "    if pd.isnull(officers_df.loc[i,'country']) or officers_df.loc[i,'country']==' ':   \n",
    "        # Check for common UK towns\n",
    "        if any(city in officers_df.loc[i,'address'].lower() for city in ['london', 'liverpool', 'manchester', \n",
    "                                                                         'cardiff', 'edinburgh', 'glasgow', \n",
    "                                                                         'warwick', 'sutton', 'leicester', \n",
    "                                                                         'birmingham', 'bristol', 'bedford', \n",
    "                                                                         'enfield', 'epping']): \n",
    "            officers_df.loc[i,'country'] = 'uk'\n",
    "\n",
    "        # Check if in Moscow\n",
    "        elif 'moscow' in officers_df.loc[i,'address'].lower():\n",
    "            officers_df.loc[i,'country'] = 'Russia'\n",
    "\n",
    "        # Try geolocator to infer country\n",
    "        else:\n",
    "            geopy.geocoders.options.default_timeout = None\n",
    "            geolocator = Nominatim(user_agent=\"geo_locator\")\n",
    "            try:\n",
    "                geoloc = geolocator.geocode(officers_df.loc[i, 'address'])[0].split(', ')[-1]\n",
    "            except:\n",
    "                geloc = ''\n",
    "            officers_df.loc[i, 'country'] = geoloc"
   ]
  },
  {
   "cell_type": "code",
   "execution_count": 112,
   "metadata": {
    "code_folding": [
     10
    ],
    "hidden": true
   },
   "outputs": [],
   "source": [
    "# Unify country names\n",
    "# Replace UK variations\n",
    "pattern = '|'.join(['England', 'Northern Ireland', 'Scotland', 'English', 'United Kingdom', 'Wales', 'British', \n",
    "                    'Northern Irish', 'Scottish', 'Welsh', 'Jersey', 'Uk'])\n",
    "officers_df.loc[:, 'country'] = officers_df.country.str.replace(pattern, 'UK')\n",
    "\n",
    "# Convert to lower case\n",
    "officers_df.loc[:, 'country'] = officers_df.country.str.lower()\n",
    "\n",
    "# Define replacements for typos, outdated names and country variations\n",
    "replace_dict = {'United Kingdom':'UK', 'Ukrainian':'Ukraine', 'Russian':'Russia', 'Lithuanian':'Lithuania', \n",
    "                'Canadian':'Canada','American':'united states', 'Azerbaijani':'Azerbaijan', \n",
    "                'Belarusian':'Belarus', 'turks &caicos islands':'turks and caicos islands',\n",
    "                'Kazakh':'Kazakhstan', 'Swiss':'Switzerland', 'German':'Germany', 'Uzbek':'Uzbekistan', \n",
    "                'Bulgarian':'Bulgaria', 'Cypriot':'Cyprus', 'Georgian':'Georgia', 'Latvian':'Latvia', \n",
    "                'Moldovan':'Moldova', 'Algerian':'Algeria', 'Norwegian':'Norway', 'Saudi Arabian':'Saudi Arabia',\n",
    "                'Czech':'Czech Republic', 'Israeli':'Israel', 'Estonian':'Estonia', 'Pakistani':'Pakistan',\n",
    "                'Citizen Of Bosnia And Herzegovina':'Bosnia And Herzegovina', 'Romanian':'Romania', \n",
    "                'Iranian':'Iran', 'Indian':'India', 'Vietnamese':'Vietnam', 'Spanish':'Spain',\n",
    "                'Citizen Of Seychelles':'Seychelles', 'Italian':'Italy', 'French':'France', 'Belgian':'Belgium',\n",
    "                'Chinese':'China', 'Republic Of The Marshall Islands':'Marshall Islands', \n",
    "                'Commonwealth Of Dominica':'Dominica', 'Australian':'Australia', 'Irish':'Ireland', \n",
    "                'Delaware, Usa':'united states', 'Icelandic':'Iceland', 'Afghan':'Afghanistan', 'Dutch':'Netherlands',\n",
    "               'Austrian':'Austria', 'Egyptian':'Egypt', 'Polish':'Poland', 'Indonesian':'Indonesia',\n",
    "               'Jamaican':'Jamaica', 'Portuguese':'Portugal', 'Filipino':'Philippines', 'Swedish':'Sweden', \n",
    "                'New Zealander':'New Zealand', 'Nigerian':'Nigeria', 'Zimbabwean':'Zimbabwe',\n",
    "                'Singaporean':'Singapore', 'Turkish':'Turkey', 'Croatian':'Croatia', 'Gambian':'Gambia', \n",
    "                'Malaysian':'Malaysia', 'The Netherlands':'Netherlands', 'Hungarian':'Hungary', \n",
    "                'Hong Konger':'Hong Kong', 'Japanese':'Japan', 'Moroccan':'Morocco', 'Sri Lankan':'Sri Lanka',\n",
    "               'Cameroonian':'Cameroon', 'Iraqi':'Iraq', 'Colombian':'Colombia', 'Albanian':'Albania',\n",
    "               'Bz':'Belize', 'UKrainian':'Ukraine', 'UKranian':'Ukraine', 'South African':'South Africa',\n",
    "               'Argentinean':'Argentina', 'United States of America':'united states', 'Greek':'Greece', \n",
    "                'Labanese':'Lebanon', 'Kazakhstani':'Kazakhstan', 'Armenian':'Armenia', 'american and uk':'uk',\n",
    "                'B.V.I.':'british virgin islands','B.V.I':'british virgin islands', 'Belizean':'Belize', \n",
    "                'britsh virgin islands':'british virgin islands', 'china.':'china','citizen of vanuatu':'vanuatu', \n",
    "                'commonwheatlh of dominica':'dominica', 'd':'dominica',\n",
    "               'dominican':'dominica', 'dominican republic':'dominica', 'english':'UK', 'finnish':'finland',\n",
    "               'great britain':'UK', 'grenadian':'grenada', 'guatemalan':'guatemala', 'ivorian':'ivory coast',\n",
    "               'kn':'st. kitts and nevis', 'korean':'korea', 'luthuania':'lithuania', 'marhsall island':'marhsall islands',\n",
    "               'marshall islands,':'marshall islands', 'marshall isles':'marshall islands', \n",
    "                'mauritian':'mauritius', 'mexican':'mexico', 'mhl':'marshall islands', 'moldovian':'moldova',\n",
    "               'mozambican':'mozambique', 'nevesian':'st. kitts and nevis', 'nevis, marshall islands':'st. kitts and nevis', \n",
    "                'nevis, west indies':'st. kitts and nevis', 'panamanian':'panama', 'rebublic of panama':'panama',\n",
    "               'republic if seychelles':'seychelles', 'republic of marshall islands':'marshall islands',\n",
    "               'republic of panama':'panama', 'republic of seychelles':'seychelles', \n",
    "                'russian federation':'russia', 'saint kitts and nevis':'st. kitts and nevis', 'sc':'seychelles', \n",
    "                'serbian':'serbia', 'serbian,montenegrin':'serbia', 'seychellois':'seychelles', \n",
    "                'seychelloise':'seychelles', 'seychells':'seychelles', 'south korean':'south korea',\n",
    "                'st kitts & nevis':'st. kitts and nevis', 'st kitts-nevis':'st. kitts and nevis', 'syrian':'syria', \n",
    "                'the commonwealth of dominica':'dominica', 'the commonweath of dominica':'dominica',\n",
    "                'the commonwhealth of dominica':'dominica', 'u.s.a.':'united states', 'uk citizen':'uk', \n",
    "                'uk virgin islands':'british virgin islands', 'united arab emirates':'united arab emirates', \n",
    "                'united kongdom':'united kingdom', 'united states':'united states', 'anglo/brazilian':'uk',\n",
    "                'vincentian':'st. vincent and the grenadines', 'american,filipino':'united states',\n",
    "                'virgin islands':'british virgin islands','virgin islands (uk)':'british virgin islands', \n",
    "                'virgin islands, uk':'british virgin islands', 'argentine':'argentina', \n",
    "                'australian and german':'australia', 'australian,irish':'irish', 'austrian,french':'austria', \n",
    "                'ballymena':'ireland', 'bangladeshi':'bangladesh', 'bengali':'bangladesh', 'brazilian':'brazil', \n",
    "               'bvi':'british virgin islands','chilean':'chile', 'citizen of the dominican republic':'dominica',\n",
    "               'congolese (drc)':'Democratic Republic of the Congo', 'danish':'denmark', 'dm':'dominica',\n",
    "               'do':'dominica', 'dutch,australian':'netherlands', 'ecuadorean':'ecuadore', 'eritrean':'eritrea',\n",
    "               'ethiopian':'ethiopia', 'filipina':'philippines', 'french,brazilian':'france', 'french,lebanese':\n",
    "               'france', 'german,uk':'uk', 'ghanaian':'ghana', 'greater manchester':'uk', 'guyanese':'guyana',\n",
    "               'irish-australian':'ireland', 'jordanian':'jordan', 'kenyan':'kenya', 'kosovan':'kosovo', 'lebanese':\n",
    "               'lebanon', 'libanaise':'lebanon', 'libyan':'libya', 'macedonian':'macedonia', 'maltese':'malta',\n",
    "               'marhsall islands':'marshall islands', 'n i':'uk', 'nepalese':'nepal', 'philippine':'philippines',\n",
    "               'polish,uk':'uk', 'portuguesie':'portugal', 'qatari':'qatar', 'serbia and montenegro':'serbia',\n",
    "               'sierra leonean':'sierra leone', 'singaporian':'singapore', 'slovak':'slovakia', 'somali':\n",
    "                'somalia', 'south african,uk':'uk', 'sri-lankan':'sri-lanka', 'sudanese':'sudan', 'suffolk':'uk',\n",
    "                'swiss,irish':'ireland', 'taiwanese':'taiwan', 'thai':'thailand', 'u s a':'united states',\n",
    "                'u.k.':'uk', 'uae':'united arab emirates', 'ugandan':'uganda', 'uk ':'uk', 'uk   ':'uk',\n",
    "                'uk indian':'uk', 'uk uk':'uk', 'uk/canadian':'uk', 'uk/new zealander':'uk','uk\\\\american':'uk',\n",
    "                'united states citizen':'united states', 'uruguayan':'uruguay', 'us':'united states', \n",
    "                'us citizen':'united states', 'usa':'united states', 'venezuelan':'venezuela', \n",
    "                'venezuelan,portuguese':'portugal', 'yugoslavian':'yugoslavia'}\n",
    "\n",
    "# Convert all strings to lowercase\n",
    "replace_dict = {key.lower() if isinstance(key, str) else key: value for key, value in replace_dict.items()}\n",
    "\n",
    "# Map new countries using replacement dictionary\n",
    "officers_df.loc[:,'country'] = officers_df.country.map(replace_dict).fillna(officers_df.country)\n",
    "\n",
    "# Fill any remaining gaps manually\n",
    "officers_df.loc[33249,'country'] = 'seychelles'\n",
    "officers_df.loc[566,'country'] = 'uk'\n",
    "officers_df.loc[7405,'country'] = 'uk' \n",
    "officers_df.loc[7184,'country'] = 'uk'\n",
    "\n",
    "# Convert remaining countries to lowercase\n",
    "officers_df.loc[:,'country'] = officers_df['country'].apply(lambda x: x.lower())"
   ]
  },
  {
   "cell_type": "code",
   "execution_count": 113,
   "metadata": {
    "code_folding": [
     0
    ],
    "hidden": true
   },
   "outputs": [
    {
     "data": {
      "application/vnd.jupyter.widget-view+json": {
       "model_id": "d061eada454a4717ac5232f77de6f0a7",
       "version_major": 2,
       "version_minor": 0
      },
      "text/plain": [
       "HBox(children=(IntProgress(value=0, max=13306), HTML(value='')))"
      ]
     },
     "metadata": {},
     "output_type": "display_data"
    },
    {
     "name": "stdout",
     "output_type": "stream",
     "text": [
      "\n"
     ]
    }
   ],
   "source": [
    "# Group similar addresses\n",
    "# Define common street address suffixes\n",
    "street_alternatives =\\\n",
    "'street|road|drive|lane|close|way|court|avenue|square|parade|view|mews|place|grove|yard|park|crescent|str|gate'\n",
    "\n",
    "# Select unique officer addresses\n",
    "unique_addresses = officers_df.address.unique()\n",
    "\n",
    "# Define list of grouped addresses\n",
    "officer_address_groups = []\n",
    "\n",
    "# Iterate through unique addresses\n",
    "for i in tqdm_notebook(range(len(unique_addresses))):\n",
    "    # Define list for verified matches \n",
    "    select_matches = []\n",
    "    # Select current address\n",
    "    unique_address = unique_addresses[i]\n",
    "    \n",
    "    # Formulate regex to extract street address\n",
    "    pattern = re.compile('([0-9-]+[a-z]?)[\\s]((?:\\D*?)(?:{}))'.format(street_alternatives))\n",
    "    # Perform fuzzy matching on current address to find subset of similar addresses\n",
    "    matches = difflib.get_close_matches(unique_address, unique_addresses, n=10, cutoff=0.7)\n",
    "    \n",
    "    # For addresses with at least one match\n",
    "    if len(matches)>1:    \n",
    "        try:\n",
    "            # Extract street name and number\n",
    "            street = re.findall(pattern, unique_address)[0][1]\n",
    "            street_num = [re.findall(pattern, unique_address)[0][0]]\n",
    "\n",
    "            # If street number is a range extract both numbers\n",
    "            if '-' in street_num[0]:\n",
    "                street_num = street_num[0].split('-')\n",
    "\n",
    "            # Verify each fuzzy match has same street name and street number\n",
    "            for match in matches:\n",
    "                if (street in match)&(any(num in match for num in street_num)): \n",
    "                    select_matches.append(match)\n",
    "        except:\n",
    "            pass\n",
    "        officer_address_groups.append(select_matches)"
   ]
  },
  {
   "cell_type": "code",
   "execution_count": 114,
   "metadata": {
    "code_folding": [
     0
    ],
    "hidden": true
   },
   "outputs": [],
   "source": [
    "# Combine common address groups\n",
    "merged = []\n",
    "address_mapper = {}\n",
    "\n",
    "# Iterate through groups of similar addresses\n",
    "for address_group in officer_address_groups:\n",
    "    # Iterate through each variation\n",
    "    for i, merged_group in enumerate(merged):\n",
    "        # Check if any of the variations already in merged group\n",
    "        if any(address in merged_group for address in address_group):\n",
    "            # Only add variations which are not already in the merged group\n",
    "            new_addresses = [address for address in address_group if address not in merged_group]\n",
    "            merged[i] += new_addresses\n",
    "            break\n",
    "    else:\n",
    "        # If none of variations exist in merged group yet, add all\n",
    "        merged.append(address_group)\n",
    "\n",
    "# Create address mapper dictionary\n",
    "for i in range(len(merged)):\n",
    "    # For address groups with at least one variation\n",
    "    if len(merged[i])>1:\n",
    "        # Take the shortest variation to be the new universal address\n",
    "        val = sorted(merged[i], key=len)[0]\n",
    "        # Iterate through each variation\n",
    "        for key in merged[i]:\n",
    "            # Check it is not the same as the new name to replace with\n",
    "            if key != val:\n",
    "                # Map old variation to new replacement\n",
    "                address_mapper[key] = val\n",
    "    \n",
    "# Replace grouped similar address with single address\n",
    "officers_df.address.replace(address_mapper, inplace=True)"
   ]
  },
  {
   "cell_type": "code",
   "execution_count": 115,
   "metadata": {
    "hidden": true
   },
   "outputs": [],
   "source": [
    "# Reset index\n",
    "officers_df.reset_index(drop=True, inplace=True)"
   ]
  },
  {
   "cell_type": "markdown",
   "metadata": {
    "heading_collapsed": true
   },
   "source": [
    "# Clean PSC data"
   ]
  },
  {
   "cell_type": "code",
   "execution_count": 9,
   "metadata": {
    "code_folding": [
     0
    ],
    "hidden": true
   },
   "outputs": [
    {
     "data": {
      "text/html": [
       "<div>\n",
       "<style scoped>\n",
       "    .dataframe tbody tr th:only-of-type {\n",
       "        vertical-align: middle;\n",
       "    }\n",
       "\n",
       "    .dataframe tbody tr th {\n",
       "        vertical-align: top;\n",
       "    }\n",
       "\n",
       "    .dataframe thead th {\n",
       "        text-align: right;\n",
       "    }\n",
       "</style>\n",
       "<table border=\"1\" class=\"dataframe\">\n",
       "  <thead>\n",
       "    <tr style=\"text-align: right;\">\n",
       "      <th></th>\n",
       "      <th>company_number</th>\n",
       "      <th>status</th>\n",
       "      <th>type</th>\n",
       "      <th>country</th>\n",
       "    </tr>\n",
       "  </thead>\n",
       "  <tbody>\n",
       "    <tr>\n",
       "      <td>0</td>\n",
       "      <td>11074958</td>\n",
       "      <td>active</td>\n",
       "      <td>person</td>\n",
       "      <td>British</td>\n",
       "    </tr>\n",
       "    <tr>\n",
       "      <td>1</td>\n",
       "      <td>08428171</td>\n",
       "      <td>active</td>\n",
       "      <td>person</td>\n",
       "      <td>British</td>\n",
       "    </tr>\n",
       "  </tbody>\n",
       "</table>\n",
       "</div>"
      ],
      "text/plain": [
       "  company_number  status    type  country\n",
       "0       11074958  active  person  British\n",
       "1       08428171  active  person  British"
      ]
     },
     "execution_count": 9,
     "metadata": {},
     "output_type": "execute_result"
    }
   ],
   "source": [
    "# Examine PSC dataframe\n",
    "psc_df.head(2)"
   ]
  },
  {
   "cell_type": "code",
   "execution_count": 117,
   "metadata": {
    "code_folding": [
     0
    ],
    "hidden": true
   },
   "outputs": [
    {
     "data": {
      "text/plain": [
       "company_number    0\n",
       "status            0\n",
       "type              0\n",
       "country           1\n",
       "dtype: int64"
      ]
     },
     "execution_count": 117,
     "metadata": {},
     "output_type": "execute_result"
    }
   ],
   "source": [
    "# Check for null values\n",
    "psc_df.isnull().sum()"
   ]
  },
  {
   "cell_type": "code",
   "execution_count": 118,
   "metadata": {
    "code_folding": [
     0
    ],
    "hidden": true
   },
   "outputs": [],
   "source": [
    "# Fill in missing country value\n",
    "psc_df.loc[196, 'country'] = 'uk'"
   ]
  },
  {
   "cell_type": "code",
   "execution_count": 119,
   "metadata": {
    "code_folding": [
     0,
     9
    ],
    "hidden": true
   },
   "outputs": [],
   "source": [
    "# Unify country names\n",
    "# Replace UK variations\n",
    "pattern = '|'.join(['England', 'Northern Ireland', 'Scotland', 'English', 'United Kingdom', 'Wales', 'British', \n",
    "                    'Northern Irish', 'Scottish', 'Welsh', 'Jersey', 'Uk'])\n",
    "psc_df.loc[:, 'country'] = psc_df.country.str.replace(pattern, 'UK')\n",
    "# Convert to lowercase\n",
    "psc_df.loc[:, 'country'] = psc_df.country.str.lower()\n",
    "\n",
    "# Define replacements for typos, outdated names and country variations\n",
    "replace_dict = {'United Kingdom':'UK', 'Ukrainian':'Ukraine', 'Russian':'Russia', 'Lithuanian':'Lithuania', \n",
    "                'Canadian':'Canada','American':'united states', 'Azerbaijani':'Azerbaijan', \n",
    "                'Belarusian':'Belarus', 'turks &caicos islands':'turks and caicos islands',\n",
    "                'Kazakh':'Kazakhstan', 'Swiss':'Switzerland', 'German':'Germany', 'Uzbek':'Uzbekistan', \n",
    "                'Bulgarian':'Bulgaria', 'Cypriot':'Cyprus', 'Georgian':'Georgia', 'Latvian':'Latvia', \n",
    "                'Moldovan':'Moldova', 'Algerian':'Algeria', 'Norwegian':'Norway', 'Saudi Arabian':'Saudi Arabia',\n",
    "                'Czech':'Czech Republic', 'Israeli':'Israel', 'Estonian':'Estonia', 'Pakistani':'Pakistan',\n",
    "                'Citizen Of Bosnia And Herzegovina':'Bosnia And Herzegovina', 'Romanian':'Romania', \n",
    "                'Iranian':'Iran', 'Indian':'India', 'Vietnamese':'Vietnam', 'Spanish':'Spain',\n",
    "                'Citizen Of Seychelles':'Seychelles', 'Italian':'Italy', 'French':'France', 'Belgian':'Belgium',\n",
    "                'Chinese':'China', 'Republic Of The Marshall Islands':'Marshall Islands', \n",
    "                'Commonwealth Of Dominica':'Dominica', 'Australian':'Australia', 'Irish':'Ireland', \n",
    "                'Delaware, Usa':'united states', 'Icelandic':'Iceland', 'Afghan':'Afghanistan', 'Dutch':'Netherlands',\n",
    "               'Austrian':'Austria', 'Egyptian':'Egypt', 'Polish':'Poland', 'Indonesian':'Indonesia',\n",
    "               'Jamaican':'Jamaica', 'Portuguese':'Portugal', 'Filipino':'Philippines', 'Swedish':'Sweden', \n",
    "                'New Zealander':'New Zealand', 'Nigerian':'Nigeria', 'Zimbabwean':'Zimbabwe',\n",
    "                'Singaporean':'Singapore', 'Turkish':'Turkey', 'Croatian':'Croatia', 'Gambian':'Gambia', \n",
    "                'Malaysian':'Malaysia', 'The Netherlands':'Netherlands', 'Hungarian':'Hungary', \n",
    "                'Hong Konger':'Hong Kong', 'Japanese':'Japan', 'Moroccan':'Morocco', 'Sri Lankan':'Sri Lanka',\n",
    "               'Cameroonian':'Cameroon', 'Iraqi':'Iraq', 'Colombian':'Colombia', 'Albanian':'Albania',\n",
    "               'Bz':'Belize', 'UKrainian':'Ukraine', 'UKranian':'Ukraine', 'South African':'South Africa',\n",
    "               'Argentinean':'Argentina', 'United States of America':'united states', 'Greek':'Greece', \n",
    "                'Labanese':'Lebanon', 'Kazakhstani':'Kazakhstan', 'Armenian':'Armenia', 'american and uk':'uk',\n",
    "                'B.V.I.':'british virgin islands','B.V.I':'british virgin islands', 'Belizean':'Belize', \n",
    "                'britsh virgin islands':'british virgin islands', 'china.':'china','citizen of vanuatu':'vanuatu', \n",
    "                'commonwheatlh of dominica':'dominica', 'd':'dominica',\n",
    "               'dominican':'dominica', 'dominican republic':'dominica', 'english':'UK', 'finnish':'finland',\n",
    "               'great britain':'UK', 'grenadian':'grenada', 'guatemalan':'guatemala', 'ivorian':'ivory coast',\n",
    "               'kn':'st. kitts and nevis', 'korean':'korea', 'luthuania':'lithuania', 'marhsall island':'marhsall islands',\n",
    "               'marshall islands,':'marshall islands', 'marshall isles':'marshall islands', \n",
    "                'mauritian':'mauritius', 'mexican':'mexico', 'mhl':'marshall islands', 'moldovian':'moldova',\n",
    "               'mozambican':'mozambique', 'nevesian':'st. kitts and nevis', 'nevis, marshall islands':'st. kitts and nevis', \n",
    "                'nevis, west indies':'st. kitts and nevis', 'panamanian':'panama', 'rebublic of panama':'panama',\n",
    "               'republic if seychelles':'seychelles', 'republic of marshall islands':'marshall islands',\n",
    "               'republic of panama':'panama', 'republic of seychelles':'seychelles', \n",
    "                'russian federation':'russia', 'saint kitts and nevis':'st. kitts and nevis', 'sc':'seychelles', \n",
    "                'serbian':'serbia', 'serbian,montenegrin':'serbia', 'seychellois':'seychelles', \n",
    "                'seychelloise':'seychelles', 'seychells':'seychelles', 'south korean':'south korea',\n",
    "                'st kitts & nevis':'st. kitts and nevis', 'st kitts-nevis':'st. kitts and nevis', 'syrian':'syria', \n",
    "                'the commonwealth of dominica':'dominica', 'the commonweath of dominica':'dominica',\n",
    "                'the commonwhealth of dominica':'dominica', 'u.s.a.':'united states', 'uk citizen':'uk', \n",
    "                'uk virgin islands':'british virgin islands', 'united arab emirates':'united arab emirates', \n",
    "                'united kongdom':'united kingdom', 'united states':'united states', 'anglo/brazilian':'uk',\n",
    "                'vincentian':'st. vincent and the grenadines', 'american,filipino':'united states',\n",
    "                'virgin islands':'british virgin islands','virgin islands (uk)':'british virgin islands', \n",
    "                'virgin islands, uk':'british virgin islands', 'argentine':'argentina', \n",
    "                'australian and german':'australia', 'australian,irish':'irish', 'austrian,french':'austria', \n",
    "                'ballymena':'ireland', 'bangladeshi':'bangladesh', 'bengali':'bangladesh', 'brazilian':'brazil', \n",
    "               'bvi':'british virgin islands','chilean':'chile', 'citizen of the dominican republic':'dominica',\n",
    "               'congolese (drc)':'Democratic Republic of the Congo', 'danish':'denmark', 'dm':'dominica',\n",
    "               'do':'dominica', 'dutch,australian':'netherlands', 'ecuadorean':'ecuadore', 'eritrean':'eritrea',\n",
    "               'ethiopian':'ethiopia', 'filipina':'philippines', 'french,brazilian':'france', 'french,lebanese':\n",
    "               'france', 'german,uk':'uk', 'ghanaian':'ghana', 'greater manchester':'uk', 'guyanese':'guyana',\n",
    "               'irish-australian':'ireland', 'jordanian':'jordan', 'kenyan':'kenya', 'kosovan':'kosovo', 'lebanese':\n",
    "               'lebanon', 'libanaise':'lebanon', 'libyan':'libya', 'macedonian':'macedonia', 'maltese':'malta',\n",
    "               'marhsall islands':'marshall islands', 'n i':'uk', 'nepalese':'nepal', 'philippine':'philippines',\n",
    "               'polish,uk':'uk', 'portuguesie':'portugal', 'qatari':'qatar', 'serbia and montenegro':'serbia',\n",
    "               'sierra leonean':'sierra leone', 'singaporian':'singapore', 'slovak':'slovakia', 'somali':\n",
    "                'somalia', 'south african,uk':'uk', 'sri-lankan':'sri-lanka', 'sudanese':'sudan', 'suffolk':'uk',\n",
    "                'swiss,irish':'ireland', 'taiwanese':'taiwan', 'thai':'thailand', 'u s a':'united states',\n",
    "                'u.k.':'uk', 'uae':'united arab emirates', 'ugandan':'uganda', 'uk ':'uk', 'uk   ':'uk',\n",
    "                'uk indian':'uk', 'uk uk':'uk', 'uk/canadian':'uk', 'uk/new zealander':'uk','uk\\\\american':'uk',\n",
    "                'united states citizen':'united states', 'uruguayan':'uruguay', 'us':'united states', \n",
    "                'us citizen':'united states', 'usa':'united states', 'venezuelan':'venezuela', \n",
    "                'venezuelan,portuguese':'portugal', 'yugoslavian':'yugoslavia'}\n",
    "\n",
    "# Convert all strings to lowercase\n",
    "replace_dict = {key.lower() if isinstance(key, str) else key: value for key, value in replace_dict.items()}\n",
    "\n",
    "# Map new countries using replacement dictionary\n",
    "psc_df.loc[:,'country'] = psc_df.country.map(replace_dict).fillna(psc_df.country)\n",
    "\n",
    "# Convert all to lowercase\n",
    "psc_df.loc[:,'country'] = psc_df['country'].apply(lambda x: x.lower())"
   ]
  },
  {
   "cell_type": "code",
   "execution_count": 120,
   "metadata": {
    "code_folding": [
     0
    ],
    "hidden": true
   },
   "outputs": [],
   "source": [
    "# Convert all strings to lowercase\n",
    "psc_df['type'] = psc_df['type'].apply(lambda x: x.lower())\n",
    "psc_df['country'] = psc_df['country'].apply(lambda x: x.lower())"
   ]
  },
  {
   "cell_type": "code",
   "execution_count": 121,
   "metadata": {
    "code_folding": [
     0
    ],
    "hidden": true
   },
   "outputs": [],
   "source": [
    "# Reset index\n",
    "psc_df.reset_index(drop=True, inplace=True)"
   ]
  },
  {
   "cell_type": "markdown",
   "metadata": {
    "heading_collapsed": true
   },
   "source": [
    "# Clean filings data"
   ]
  },
  {
   "cell_type": "code",
   "execution_count": 10,
   "metadata": {
    "code_folding": [
     0
    ],
    "hidden": true
   },
   "outputs": [
    {
     "data": {
      "text/html": [
       "<div>\n",
       "<style scoped>\n",
       "    .dataframe tbody tr th:only-of-type {\n",
       "        vertical-align: middle;\n",
       "    }\n",
       "\n",
       "    .dataframe tbody tr th {\n",
       "        vertical-align: top;\n",
       "    }\n",
       "\n",
       "    .dataframe thead th {\n",
       "        text-align: right;\n",
       "    }\n",
       "</style>\n",
       "<table border=\"1\" class=\"dataframe\">\n",
       "  <thead>\n",
       "    <tr style=\"text-align: right;\">\n",
       "      <th></th>\n",
       "      <th>company_number</th>\n",
       "      <th>filing_date</th>\n",
       "      <th>description</th>\n",
       "    </tr>\n",
       "  </thead>\n",
       "  <tbody>\n",
       "    <tr>\n",
       "      <td>0</td>\n",
       "      <td>04214415</td>\n",
       "      <td>2020-02-26</td>\n",
       "      <td>accounts-with-accounts-type-dormant</td>\n",
       "    </tr>\n",
       "    <tr>\n",
       "      <td>1</td>\n",
       "      <td>04214415</td>\n",
       "      <td>2019-05-15</td>\n",
       "      <td>confirmation-statement-with-no-updates</td>\n",
       "    </tr>\n",
       "  </tbody>\n",
       "</table>\n",
       "</div>"
      ],
      "text/plain": [
       "  company_number filing_date                             description\n",
       "0       04214415  2020-02-26     accounts-with-accounts-type-dormant\n",
       "1       04214415  2019-05-15  confirmation-statement-with-no-updates"
      ]
     },
     "execution_count": 10,
     "metadata": {},
     "output_type": "execute_result"
    }
   ],
   "source": [
    "# Examine filings dataframe\n",
    "filings_df.head(2)"
   ]
  },
  {
   "cell_type": "code",
   "execution_count": 123,
   "metadata": {
    "code_folding": [
     0
    ],
    "hidden": true
   },
   "outputs": [],
   "source": [
    "# Convert dates to datetime\n",
    "filings_df['filing_date'] = pd.to_datetime(filings_df.filing_date, format='%Y-%m-%d')"
   ]
  },
  {
   "cell_type": "code",
   "execution_count": 124,
   "metadata": {
    "hidden": true
   },
   "outputs": [],
   "source": [
    "# Reset index\n",
    "filings_df.reset_index(drop=True, inplace=True)"
   ]
  },
  {
   "cell_type": "markdown",
   "metadata": {
    "heading_collapsed": true
   },
   "source": [
    "# Feature creation"
   ]
  },
  {
   "cell_type": "code",
   "execution_count": 251,
   "metadata": {
    "code_folding": [
     0
    ],
    "hidden": true
   },
   "outputs": [
    {
     "data": {
      "application/vnd.jupyter.widget-view+json": {
       "model_id": "81b7e6090e014ca9b2fc6d7555989709",
       "version_major": 2,
       "version_minor": 0
      },
      "text/plain": [
       "HBox(children=(IntProgress(value=0, max=9786), HTML(value='')))"
      ]
     },
     "metadata": {},
     "output_type": "display_data"
    },
    {
     "name": "stdout",
     "output_type": "stream",
     "text": [
      "\n"
     ]
    }
   ],
   "source": [
    "# Create column for number of officers which are companies and for those which are people\n",
    "company_officers = []\n",
    "human_officers = []\n",
    "\n",
    "# Reset index\n",
    "comps_df.reset_index(drop=True, inplace=True)\n",
    "\n",
    "# Iterate through all companies\n",
    "for i in tqdm_notebook(range(len(comps_df))):\n",
    "    # Select current company number\n",
    "    comp_num = comps_df.loc[i, 'company_number']\n",
    "    # View number of officers by type for current company\n",
    "    officer_by_type = officers_df[officers_df.company_number==comp_num].groupby('type').count().company_number\n",
    "    \n",
    "    try:\n",
    "        # Add count of company officers\n",
    "        company_officers.append(officer_by_type['company'])\n",
    "    except:\n",
    "        # No company column implies no officers of type company\n",
    "        company_officers.append(0)\n",
    "        \n",
    "    try:\n",
    "        # Add count of human officers\n",
    "        human_officers.append(officer_by_type['person'])\n",
    "    except:\n",
    "        # No person column implies no officers of type person\n",
    "        human_officers.append(0)\n",
    "\n",
    "# Add columns for company officer and human officer counts\n",
    "comps_df['company_officers'] = company_officers\n",
    "comps_df['human_officers'] = human_officers"
   ]
  },
  {
   "cell_type": "code",
   "execution_count": 252,
   "metadata": {
    "code_folding": [
     0
    ],
    "hidden": true
   },
   "outputs": [
    {
     "data": {
      "application/vnd.jupyter.widget-view+json": {
       "model_id": "0f3a0cdaf3e0443897f1aa865078546e",
       "version_major": 2,
       "version_minor": 0
      },
      "text/plain": [
       "HBox(children=(IntProgress(value=0, max=9786), HTML(value='')))"
      ]
     },
     "metadata": {},
     "output_type": "display_data"
    },
    {
     "name": "stdout",
     "output_type": "stream",
     "text": [
      "\n"
     ]
    }
   ],
   "source": [
    "# Create column for number of officers with the same address\n",
    "officer_common_address = []\n",
    "\n",
    "# Iterate through all companies\n",
    "for i in tqdm_notebook(range(len(comps_df))):\n",
    "    # Instantiate counter for number of companies with the same address\n",
    "    common_address_count = 0\n",
    "    # Extract current company number\n",
    "    comp_num = comps_df.loc[i, 'company_number']\n",
    "    # Count number of officers for current company registered at each address \n",
    "    officer_by_address = officers_df[officers_df.company_number==comp_num].groupby('address').count()\n",
    "    # Check how many officers share each address\n",
    "    for count in officer_by_address['company_number']:\n",
    "        # Check if address is being used by more than one officer\n",
    "        if count>1:\n",
    "            # Increase counter by number of companies sharing address\n",
    "            common_address_count += count\n",
    "    officer_common_address.append(common_address_count)\n",
    "    \n",
    "# Add column for number of companies using shared addresses\n",
    "comps_df['officer_common_address'] = officer_common_address"
   ]
  },
  {
   "cell_type": "code",
   "execution_count": 222,
   "metadata": {
    "code_folding": [
     0
    ],
    "hidden": true
   },
   "outputs": [
    {
     "data": {
      "application/vnd.jupyter.widget-view+json": {
       "model_id": "c64720746f4848b3b3f5a7c23f1d42ef",
       "version_major": 2,
       "version_minor": 0
      },
      "text/plain": [
       "HBox(children=(IntProgress(value=0, max=9786), HTML(value='')))"
      ]
     },
     "metadata": {},
     "output_type": "display_data"
    },
    {
     "name": "stdout",
     "output_type": "stream",
     "text": [
      "\n"
     ]
    }
   ],
   "source": [
    "# Create column for number of officers which are companies and in a country with secrecy score > 60\n",
    "# Create list of secrecy jurisdiction countries\n",
    "secrecy_jurisdictions = [country.lower() for country in fsi_rankings[fsi_rankings['Secrecy Score4']>60]\\\n",
    "                         ['Jurisdiction1'].values]\n",
    "# All channel islands are included on list but some companies just list country as channel islands\n",
    "secrecy_jurisdictions.append('channel islands')\n",
    "\n",
    "# Instantiate list for number of secrecy officers of each company\n",
    "secrecy_officers = []\n",
    "\n",
    "# Iterate through all companies\n",
    "for i in tqdm_notebook(range(len(comps_df))):\n",
    "    # Start secrecy officer counter at zero\n",
    "    secrecy_officer_count = 0\n",
    "    # Select current company number\n",
    "    comp_num = comps_df.loc[i, 'company_number']\n",
    "    # Count number of officers by country for current company\n",
    "    officer_by_country =\\\n",
    "    officers_df[(officers_df.company_number==comp_num)&(officers_df.type=='company')].groupby('country').count().company_number\n",
    "    \n",
    "    # Iterate through all countries of current company's officers\n",
    "    for country in officer_by_country.keys():\n",
    "        # Check if country is a secrecy jurisdiction\n",
    "        if country in secrecy_jurisdictions:\n",
    "            # Increase counter\n",
    "            secrecy_officer_count += 1\n",
    "            \n",
    "    secrecy_officers.append(secrecy_officer_count)\n",
    "    \n",
    "# Create column for number of officers in secrecy jurisdictions\n",
    "comps_df['secrecy_officers'] = secrecy_officers"
   ]
  },
  {
   "cell_type": "code",
   "execution_count": 250,
   "metadata": {
    "code_folding": [
     0
    ],
    "hidden": true
   },
   "outputs": [
    {
     "data": {
      "application/vnd.jupyter.widget-view+json": {
       "model_id": "fd83b8bcee0b460cb562e5cff20fa636",
       "version_major": 2,
       "version_minor": 0
      },
      "text/plain": [
       "HBox(children=(IntProgress(value=0, max=9786), HTML(value='')))"
      ]
     },
     "metadata": {},
     "output_type": "display_data"
    },
    {
     "name": "stdout",
     "output_type": "stream",
     "text": [
      "\n"
     ]
    }
   ],
   "source": [
    "# Create column for number of psc which are companies and for those which are people\n",
    "rle = []\n",
    "human_psc = []\n",
    "\n",
    "# Iterate through all companies\n",
    "for i in tqdm_notebook(range(len(comps_df))):\n",
    "    # Select current company number\n",
    "    comp_num = comps_df.loc[i, 'company_number']\n",
    "    # Select all PSCs for current company\n",
    "    comp_psc = psc_df[psc_df.company_number==comp_num]\n",
    "    humans = 0\n",
    "    companies = 0\n",
    "    \n",
    "    # Iterate through each PSC\n",
    "    for i in range(len(comp_psc)):\n",
    "        # Check if human\n",
    "        if comp_psc.iloc[i,2]=='person' or comp_psc.iloc[i,2]=='director':\n",
    "            humans += 1\n",
    "        # Else assume company\n",
    "        else:\n",
    "            companies += 1\n",
    "\n",
    "    # Append company and human count lists\n",
    "    rle.append(companies)\n",
    "    human_psc.append(humans)\n",
    "    \n",
    "# Create columns for number of RLEs (companies) and number of PSCs (human)\n",
    "comps_df['rle'] = rle\n",
    "comps_df['human_psc'] = human_psc"
   ]
  },
  {
   "cell_type": "code",
   "execution_count": 189,
   "metadata": {
    "code_folding": [
     0
    ],
    "hidden": true
   },
   "outputs": [
    {
     "data": {
      "application/vnd.jupyter.widget-view+json": {
       "model_id": "90a6f5536e72432387434e44e08bb096",
       "version_major": 2,
       "version_minor": 0
      },
      "text/plain": [
       "HBox(children=(IntProgress(value=0, max=9786), HTML(value='')))"
      ]
     },
     "metadata": {},
     "output_type": "display_data"
    },
    {
     "name": "stdout",
     "output_type": "stream",
     "text": [
      "\n"
     ]
    }
   ],
   "source": [
    "# Create column for number of PSC (ie must be a person) \n",
    "human_psc = []\n",
    "\n",
    "# Iterate through each company\n",
    "for i in tqdm_notebook(range(len(comps_df))):\n",
    "    # Start counter for number of human PSCs at zero\n",
    "    human_psc_count = 0\n",
    "    # Select current company number\n",
    "    comp_num = comps_df.loc[i, 'company_number']\n",
    "\n",
    "    # Select all PSC types for current company\n",
    "    for psc in psc_df[psc_df.company_number==comp_num].type.values:\n",
    "        # Check if a person\n",
    "        if psc=='person':\n",
    "            human_psc_count += 1\n",
    "            \n",
    "    human_psc.append(human_psc_count)\n",
    "    \n",
    "# Create new column for count of human PSCs\n",
    "comps_df['human_psc'] = human_psc"
   ]
  },
  {
   "cell_type": "code",
   "execution_count": 193,
   "metadata": {
    "code_folding": [
     0
    ],
    "hidden": true
   },
   "outputs": [
    {
     "data": {
      "application/vnd.jupyter.widget-view+json": {
       "model_id": "6870d3fd28a14517b9a6ab3af4212249",
       "version_major": 2,
       "version_minor": 0
      },
      "text/plain": [
       "HBox(children=(IntProgress(value=0, max=9786), HTML(value='')))"
      ]
     },
     "metadata": {},
     "output_type": "display_data"
    },
    {
     "name": "stdout",
     "output_type": "stream",
     "text": [
      "\n"
     ]
    }
   ],
   "source": [
    "# Create column for number of RLE (ie must be a company) \n",
    "rle = []\n",
    "\n",
    "# Iterate through all companies\n",
    "for i in tqdm_notebook(range(len(comps_df))):\n",
    "    # Start RLE count at zero\n",
    "    rle_count = 0\n",
    "    # Select current company number\n",
    "    comp_num = comps_df.loc[i, 'company_number']\n",
    "\n",
    "    # Iterate through each type of PSC for current company\n",
    "    for psc in psc_df[psc_df.company_number==comp_num].type.values:\n",
    "        # Check if PSC is a person\n",
    "        if (psc_df!='human')&(psc_df!='director'):\n",
    "            rle_count += 1\n",
    "            \n",
    "    rle.append(rle_count)\n",
    "    \n",
    "# Create new column for number of RLEs\n",
    "comps_df['rle'] = rle"
   ]
  },
  {
   "cell_type": "code",
   "execution_count": 226,
   "metadata": {
    "code_folding": [
     0
    ],
    "hidden": true
   },
   "outputs": [
    {
     "data": {
      "application/vnd.jupyter.widget-view+json": {
       "model_id": "b9bfe5790b8c4717bb8d8107ad6d4b0c",
       "version_major": 2,
       "version_minor": 0
      },
      "text/plain": [
       "HBox(children=(IntProgress(value=0, max=9786), HTML(value='')))"
      ]
     },
     "metadata": {},
     "output_type": "display_data"
    },
    {
     "name": "stdout",
     "output_type": "stream",
     "text": [
      "\n"
     ]
    }
   ],
   "source": [
    "# Create column for number of PSCs which are companies (RLEs) and in country with secrecy score of more than 60 \n",
    "secrecy_psc = []\n",
    "\n",
    "# Iterate through all companies\n",
    "for i in tqdm_notebook(range(len(comps_df))):\n",
    "    # Start PSC counter at zero\n",
    "    secrecy_psc_count = 0\n",
    "    # Select current company number\n",
    "    comp_num = comps_df.loc[i, 'company_number']\n",
    "    # Groupy all non human PSC (RLEs) by country\n",
    "    psc_by_country =\\\n",
    "    psc_df[(psc_df.company_number==comp_num)&((psc_df.type!='human')&(psc_df.type!='director'))].groupby('country').count().company_number\n",
    "    \n",
    "    # Iterate through each company and check if included in secrecy jurisdiction list\n",
    "    for country in psc_by_country.keys():\n",
    "        if country in secrecy_jurisdictions:\n",
    "            # Increment counter if included in secrecy jurisdiction list\n",
    "            secrecy_psc_count += 1\n",
    "            \n",
    "    secrecy_psc.append(secrecy_psc_count)\n",
    "\n",
    "# Create column for number of RLEs in secrecy jurisdictions\n",
    "comps_df['secrecy_psc'] = secrecy_psc"
   ]
  },
  {
   "cell_type": "code",
   "execution_count": 84,
   "metadata": {
    "code_folding": [
     0
    ],
    "hidden": true
   },
   "outputs": [
    {
     "data": {
      "application/vnd.jupyter.widget-view+json": {
       "model_id": "8b63365f4c0f4361a2b3181a4c80e181",
       "version_major": 2,
       "version_minor": 0
      },
      "text/plain": [
       "HBox(children=(IntProgress(value=0, max=9786), HTML(value='')))"
      ]
     },
     "metadata": {},
     "output_type": "display_data"
    },
    {
     "name": "stdout",
     "output_type": "stream",
     "text": [
      "\n"
     ]
    }
   ],
   "source": [
    "# Create feature for number of dormant accounts filed relative to lifetime\n",
    "dormant_accounts = []\n",
    "\n",
    "# Iterate through all companies\n",
    "for i in tqdm_notebook(range(len(comps_df))):\n",
    "    # Select current company number\n",
    "    comp_num = comps_df.loc[i, 'company_number']\n",
    "    # Select all dormant filings for current company\n",
    "    dormant_filings = filings_df[(filings_df.company_number==comp_num)&(filings_df.description=='accounts-with-accounts-type-dormant')]\n",
    "    # Count number of instances\n",
    "    dormant_count = dormant_filings.shape[0]\n",
    "    \n",
    "    # Find company lifetime\n",
    "    # Select creation date\n",
    "    creation_date = comps_df.loc[i, 'creation_date']\n",
    "    \n",
    "    # Check if company is still active and set last date as today\n",
    "    if pd.isnull(comps_df.loc[i, 'dissolved_date']):\n",
    "        last_date = datetime.now()\n",
    "        \n",
    "    # Select dissolved date if appropriate\n",
    "    else:\n",
    "        last_date = comps_df.loc[i, 'dissolved_date']\n",
    "        \n",
    "    # Calculate days since creation or up to dissolving if applicable\n",
    "    lifetime = (last_date - creation_date).days\n",
    "    \n",
    "    # Calulate dormant filings rate\n",
    "    dormant_accounts_per_day = dormant_count/lifetime\n",
    "    \n",
    "    dormant_accounts.append(dormant_accounts_per_day)\n",
    "    \n",
    "# Create new column for dormant filings rate\n",
    "comps_df['dormant_accounts'] = dormant_accounts"
   ]
  },
  {
   "cell_type": "code",
   "execution_count": 314,
   "metadata": {
    "code_folding": [
     0
    ],
    "hidden": true
   },
   "outputs": [
    {
     "data": {
      "application/vnd.jupyter.widget-view+json": {
       "model_id": "4adb5363ad0e470ca0b7384c3265db5b",
       "version_major": 2,
       "version_minor": 0
      },
      "text/plain": [
       "HBox(children=(IntProgress(value=0, max=9786), HTML(value='')))"
      ]
     },
     "metadata": {},
     "output_type": "display_data"
    },
    {
     "name": "stdout",
     "output_type": "stream",
     "text": [
      "\n"
     ]
    }
   ],
   "source": [
    "# Create feature for number of name changes relative to lifetime\n",
    "name_changes = []\n",
    "\n",
    "# Iterate through all companies\n",
    "for i in tqdm_notebook(range(len(comps_df))):\n",
    "    # Select current company number\n",
    "    comp_num = comps_df.loc[i, 'company_number']\n",
    "    # Select all name change filings for current company\n",
    "    name_change_df = filings_df[(filings_df.company_number==comp_num)&(filings_df.name_changes>0)]\n",
    "    # Count number of instances\n",
    "    change_count = name_change_df.shape[0]\n",
    "    \n",
    "    # Find company lifetime\n",
    "    creation_date = comps_df.loc[i, 'creation_date']\n",
    "    \n",
    "    # Check if company is still active and calculate lifetime from current date\n",
    "    if pd.isnull(comps_df.loc[i, 'dissolved_date']):\n",
    "        last_date = datetime.now()\n",
    "        \n",
    "    # Select dissolved date if applicable\n",
    "    else:\n",
    "        last_date = comps_df.loc[i, 'dissolved_date']\n",
    "        \n",
    "    # Calculate lifetime in days\n",
    "    lifetime = (last_date - creation_date).days\n",
    "    \n",
    "    # Calculate name change rate relative to lifetime\n",
    "    name_changes_per_year = change_count/lifetime\n",
    "    \n",
    "    name_changes.append(name_changes_per_year)\n",
    "    \n",
    "# Create column for number of name changes relative to lifetime\n",
    "comps_df['name_changes'] = name_changes"
   ]
  },
  {
   "cell_type": "markdown",
   "metadata": {},
   "source": [
    "# Exploratory data analysis"
   ]
  },
  {
   "cell_type": "code",
   "execution_count": 175,
   "metadata": {
    "code_folding": [
     0
    ]
   },
   "outputs": [
    {
     "data": {
      "image/png": "[encoded data removed]",
      "text/plain": [
       "<Figure size 1440x360 with 1 Axes>"
      ]
     },
     "metadata": {
      "needs_background": "light"
     },
     "output_type": "display_data"
    }
   ],
   "source": [
    "# Examine distribution of companies registered at an address for non-suspicious companies\n",
    "address_count = pd.DataFrame({'address':np.unique(comps_df[comps_df.ml==0].address, return_counts=True)[0],\n",
    "                             'count':np.unique(comps_df[comps_df.ml==0].address, return_counts=True)[1]})\n",
    "\n",
    "fig, ax = plt.subplots(figsize=(20,5))\n",
    "address_count.sort_values(by='count', ascending=False).head(500).plot(kind='bar', ax=ax)\n",
    "ax.set_xticklabels(labels=[])\n",
    "ax.set_xlabel('Unique addresses')\n",
    "ax.set_ylabel('Count')\n",
    "ax.set_title('Distribution of unique addresses for ml companies')\n",
    "ax.set_ylim(0, 50)\n",
    "ax.xaxis.set_ticks_position('none')\n",
    "ax.get_legend().remove();"
   ]
  },
  {
   "cell_type": "code",
   "execution_count": 174,
   "metadata": {
    "code_folding": [
     0
    ]
   },
   "outputs": [
    {
     "data": {
      "image/png": "[encoded data removed]",
      "text/plain": [
       "<Figure size 1440x360 with 1 Axes>"
      ]
     },
     "metadata": {
      "needs_background": "light"
     },
     "output_type": "display_data"
    }
   ],
   "source": [
    "# Examine distribution of companies registered at an address for suspicious companies\n",
    "address_count = pd.DataFrame({'address':np.unique(comps_df[comps_df.ml==1].address, return_counts=True)[0],\n",
    "                             'count':np.unique(comps_df[comps_df.ml==1].address, return_counts=True)[1]})\n",
    "\n",
    "fig, ax = plt.subplots(figsize=(20,5))\n",
    "address_count.sort_values(by='count', ascending=False).plot(kind='bar', ax=ax)\n",
    "ax.set_xticklabels(labels=[])\n",
    "ax.set_xlabel('Unique addresses')\n",
    "ax.set_ylabel('Count')\n",
    "ax.set_title('Distribution of unique addresses for ml companies')\n",
    "ax.set_yscale('log')\n",
    "ax.set_ylim(0, 1000)\n",
    "ax.xaxis.set_ticks_position('none')\n",
    "ax.get_legend().remove();"
   ]
  },
  {
   "cell_type": "markdown",
   "metadata": {},
   "source": [
    "There are markedly more addresses being used by multiple companies in the suspicious category and the number of companies using each address is significantly higher. This is frankly unsurprising as many suspicious companies will use a companies registration agent or \"company factory\" who will use a common address to avoid giving any personal address details. For most companies this is not neccessary because they will have an office or in the case of individuals or very small businesses they often register their home address and the number of cases where people use PO boxes or mail services makes up a very small proportion."
   ]
  },
  {
   "cell_type": "code",
   "execution_count": 20,
   "metadata": {
    "code_folding": [
     0
    ]
   },
   "outputs": [
    {
     "data": {
      "text/plain": [
       "''"
      ]
     },
     "execution_count": 20,
     "metadata": {},
     "output_type": "execute_result"
    },
    {
     "data": {
      "image/png": "[encoded data removed]",
      "text/plain": [
       "<Figure size 1152x576 with 2 Axes>"
      ]
     },
     "metadata": {},
     "output_type": "display_data"
    }
   ],
   "source": [
    "# Plot split of company types for both suspicious and non-suspicious\n",
    "colours = ['dodgerblue','royalblue','powderblue','seagreen','slategray','teal','navy','mediumblue','darkviolet','mediumvioletred','darkorange']\n",
    "label_threshold = 0.05\n",
    "\n",
    "kind_count = pd.pivot_table(comps_df, values='active_officers', columns=['ml'],index=['kind'], aggfunc='count').sort_values(by=1, ascending=False)\n",
    "kind_count.fillna(0, inplace=True)\n",
    "kind_count['pct_0'] = kind_count[0]/sum(kind_count[0])\n",
    "kind_count['pct_1'] = kind_count[1]/sum(kind_count[1])\n",
    "pie_labels_0 = [kind_count.index[i] if list(kind_count['pct_0'])[i]>label_threshold else '' for i in range(len(kind_count))]\n",
    "pie_labels_1 = [kind_count.index[i] if list(kind_count['pct_1'])[i]>label_threshold else '' for i in range(len(kind_count))]\n",
    "\n",
    "def my_autopct(pct):\n",
    "    return ('%.2f%%' % pct) if pct > label_threshold*100 else ''\n",
    "\n",
    "fig, ax = plt.subplots(figsize=(16,8),ncols=2)\n",
    "ax[0].pie(kind_count[0], labels=pie_labels_0, autopct=my_autopct, startangle=90, colors=colours, textprops={'fontsize': 12})\n",
    "ax[1].pie(kind_count[1], labels=pie_labels_1, autopct=my_autopct, startangle=90, colors=colours, textprops={'fontsize': 12})\n",
    "ax[0].set_title('Split of company types for non-suspicious companies',fontsize= 14)\n",
    "ax[1].set_title('Split of company types for suspicious companies',fontsize= 14)\n",
    "\n",
    "legend_labels = [kind_count.index[i] for i in range(len(kind_count)) if list(kind_count['pct_0'])[i]>0.002]\n",
    "legend_colours = [colours[i] for i in range(len(kind_count)) if list(kind_count['pct_0'])[i]>0.002]\n",
    "custom_lines = [Line2D([0], [0], color=colour, lw=4) for colour in legend_colours]\n",
    "fig.legend(custom_lines, legend_labels, loc=\"center\", bbox_to_anchor=(0.396, 0.695))\n",
    ";"
   ]
  },
  {
   "cell_type": "markdown",
   "metadata": {},
   "source": [
    "This shows the split of company types in the suspicious category is not in line with the overall population, where the majority of registered companies are Limited. This should not be a surprise because Limited Liability Partnerships (LLPs) and Limited Partnerships (LPs) due to their less stringent disclosure obligations, e.g. LPs are not required to submit accounts to Companies House if the partners are not liable to UK tax (which is also not checked). "
   ]
  },
  {
   "cell_type": "code",
   "execution_count": 343,
   "metadata": {
    "code_folding": [
     0
    ]
   },
   "outputs": [
    {
     "data": {
      "image/png": "[encoded data removed]",
      "text/plain": [
       "<Figure size 1080x216 with 1 Axes>"
      ]
     },
     "metadata": {
      "needs_background": "light"
     },
     "output_type": "display_data"
    }
   ],
   "source": [
    "# Plot creation of non-suspicious companies over time\n",
    "\n",
    "x = list(np.unique(comps_df[comps_df.ml==0].creation_date, return_counts=True)[0])\n",
    "y = list(np.unique(comps_df[comps_df.ml==0].creation_date, return_counts=True)[1])\n",
    "\n",
    "fig, ax = plt.subplots(figsize=(15,3))\n",
    "sns.lineplot(x, y, ax=ax)\n",
    "ax.set_ylim(1,10)\n",
    "ax.set_xlim([datetime(1980, 1, 1), datetime(2020,3,5)])\n",
    "ax.set_title('Creation of non-suspicious companies over time');"
   ]
  },
  {
   "cell_type": "code",
   "execution_count": 344,
   "metadata": {
    "code_folding": [
     0
    ]
   },
   "outputs": [
    {
     "data": {
      "image/png": "[encoded data removed]",
      "text/plain": [
       "<Figure size 1080x216 with 1 Axes>"
      ]
     },
     "metadata": {
      "needs_background": "light"
     },
     "output_type": "display_data"
    }
   ],
   "source": [
    "# Plot creation of ml companies over time\n",
    "x = list(np.unique(comps_df[comps_df.ml==1].creation_date, return_counts=True)[0])\n",
    "y = list(np.unique(comps_df[comps_df.ml==1].creation_date, return_counts=True)[1])\n",
    "\n",
    "fig, ax = plt.subplots(figsize=(15,3))\n",
    "sns.lineplot(x, y, ax=ax)\n",
    "ax.set_ylim(1,60)\n",
    "ax.set_xlim([datetime(1980, 1, 1), datetime(2020,3,5)])\n",
    "ax.set_title('Creation of suspicious companies over time');"
   ]
  },
  {
   "cell_type": "markdown",
   "metadata": {},
   "source": [
    "The formation of suspicious companies saw an increase in the early 2000s, as more stringent checks came in from Banks and AML investigations increased. There is also a sharp peak after 2015, this is when a large number of companies were registered as part of one of the larger Laundromats included in the positive samples. There appears to be a drop off in registrations of suspicious companies in more recent times, this misleading and most likely can be attributed to the bias in the positive samples being used. There are more cases of confirmed money laundering and financial crime in companies registered previously because the investigations can take a long time to unearth these rings. The data set used focuses on a number of large exposures of Laundromats over the period from 2013 to 2016, skewing the data to this timeframe."
   ]
  },
  {
   "cell_type": "code",
   "execution_count": 350,
   "metadata": {
    "code_folding": [
     0
    ]
   },
   "outputs": [
    {
     "data": {
      "text/plain": [
       "''"
      ]
     },
     "execution_count": 350,
     "metadata": {},
     "output_type": "execute_result"
    },
    {
     "data": {
      "image/png": "[encoded data removed]",
      "text/plain": [
       "<Figure size 1080x216 with 1 Axes>"
      ]
     },
     "metadata": {
      "needs_background": "light"
     },
     "output_type": "display_data"
    }
   ],
   "source": [
    "# Plot secrecy officers of non-ml companies\n",
    "x = list(np.unique(comps_df[comps_df.ml==0]['secrecy_officers'], return_counts=True)[0])\n",
    "y = list(np.unique(comps_df[comps_df.ml==0]['secrecy_officers'], return_counts=True)[1])\n",
    "\n",
    "fig, ax = plt.subplots(figsize=(15,3))\n",
    "sns.barplot(x, y, ax=ax)\n",
    "ax.set_xlabel('Number of officers in secrecy jurisdictions')\n",
    "ax.set_ylabel('Count')\n",
    "ax.set_title('Distribution of companies with officers in secrecy jurisdictions')\n",
    "# ax.set_yscale('log')\n",
    ";"
   ]
  },
  {
   "cell_type": "code",
   "execution_count": 456,
   "metadata": {
    "code_folding": [
     0
    ]
   },
   "outputs": [
    {
     "data": {
      "text/plain": [
       "''"
      ]
     },
     "execution_count": 456,
     "metadata": {},
     "output_type": "execute_result"
    },
    {
     "data": {
      "image/png": "[encoded data removed]",
      "text/plain": [
       "<Figure size 1080x216 with 1 Axes>"
      ]
     },
     "metadata": {
      "needs_background": "light"
     },
     "output_type": "display_data"
    }
   ],
   "source": [
    "# Plot secrecy officers of ml companies \n",
    "x = list(np.unique(comps_df[comps_df.ml==1]['secrecy_officers'], return_counts=True)[0])\n",
    "y = list(np.unique(comps_df[comps_df.ml==1]['secrecy_officers'], return_counts=True)[1])\n",
    "\n",
    "fig, ax = plt.subplots(figsize=(15,3))\n",
    "sns.barplot(x, y, ax=ax, palette='Blues_r')\n",
    "ax.set_xlabel('Number of officers in secrecy jurisdictions')\n",
    "ax.set_ylabel('Count')\n",
    "ax.set_title('Distribution of companies with officers in secrecy jurisdictions')\n",
    "# ax.set_yscale('log')\n",
    ";"
   ]
  },
  {
   "cell_type": "markdown",
   "metadata": {},
   "source": [
    "It is uncommon for UK companies to have officers running them who are based in another country, there are not many reasons why this would be necessary and its even less likely for these \"secrecy jurisdictions\" given most of them are very small countries a long way from the UK. One reason, however, is that the law in these countries offers protection to individuals by maintaining their anonymity. This is obviously incredibly attractive to individuals looking to commit fraud and financial crime as when trying to trace the beneficiary of a shell company that has been found to be money laundering, the secrecy jurisdiction will not reveal their true identity."
   ]
  },
  {
   "cell_type": "code",
   "execution_count": 450,
   "metadata": {
    "code_folding": [
     0
    ]
   },
   "outputs": [
    {
     "data": {
      "text/plain": [
       "''"
      ]
     },
     "execution_count": 450,
     "metadata": {},
     "output_type": "execute_result"
    },
    {
     "data": {
      "image/png": "[encoded data removed]",
      "text/plain": [
       "<Figure size 1080x216 with 1 Axes>"
      ]
     },
     "metadata": {
      "needs_background": "light"
     },
     "output_type": "display_data"
    }
   ],
   "source": [
    "# Plot active officers of non-ml companies\n",
    "x = list(np.unique(comps_df[comps_df.ml==0]['active_officers'], return_counts=True)[0])\n",
    "y = list(np.unique(comps_df[comps_df.ml==0]['active_officers'], return_counts=True)[1])\n",
    "\n",
    "fig, ax = plt.subplots(figsize=(15,3))\n",
    "sns.barplot(x, y, ax=ax, palette='RdYlBu_r')\n",
    "ax.set_xlabel('Number of active officers')\n",
    "ax.set_ylabel('Count')\n",
    "ax.set_title('Distribution of number of active officers for non-suspicious companies')\n",
    ";"
   ]
  },
  {
   "cell_type": "code",
   "execution_count": 455,
   "metadata": {
    "code_folding": [
     0
    ]
   },
   "outputs": [
    {
     "data": {
      "text/plain": [
       "''"
      ]
     },
     "execution_count": 455,
     "metadata": {},
     "output_type": "execute_result"
    },
    {
     "data": {
      "image/png": "[encoded data removed]",
      "text/plain": [
       "<Figure size 1080x216 with 1 Axes>"
      ]
     },
     "metadata": {
      "needs_background": "light"
     },
     "output_type": "display_data"
    }
   ],
   "source": [
    "# Plot active officers of ml companies\n",
    "x = list(np.unique(comps_df[comps_df.ml==1]['active_officers'], return_counts=True)[0])\n",
    "y = list(np.unique(comps_df[comps_df.ml==1]['active_officers'], return_counts=True)[1])\n",
    "\n",
    "fig, ax = plt.subplots(figsize=(15,3))\n",
    "sns.barplot(x, y, ax=ax,palette='Blues_r')\n",
    "ax.set_xlabel('Number of active officers')\n",
    "ax.set_ylabel('Count')\n",
    "ax.set_title('Distribution of number of active officers for suspicious companies')\n",
    ";"
   ]
  },
  {
   "cell_type": "markdown",
   "metadata": {},
   "source": [
    "There's a distinct difference in the number of active officers for suspicious companies, where they will try to avoid declaring any officers where possible."
   ]
  },
  {
   "cell_type": "code",
   "execution_count": 459,
   "metadata": {
    "code_folding": [
     0
    ]
   },
   "outputs": [
    {
     "data": {
      "text/plain": [
       "''"
      ]
     },
     "execution_count": 459,
     "metadata": {},
     "output_type": "execute_result"
    },
    {
     "data": {
      "image/png": "[encoded data removed]",
      "text/plain": [
       "<Figure size 1080x216 with 1 Axes>"
      ]
     },
     "metadata": {
      "needs_background": "light"
     },
     "output_type": "display_data"
    }
   ],
   "source": [
    "# Plot inactive officers of non-ml companies\n",
    "x = list(np.unique(comps_df[comps_df.ml==0]['inactive_officers'], return_counts=True)[0])\n",
    "y = list(np.unique(comps_df[comps_df.ml==0]['inactive_officers'], return_counts=True)[1])\n",
    "\n",
    "fig, ax = plt.subplots(figsize=(15,3))\n",
    "sns.barplot(x, y, ax=ax, palette='Blues_r')\n",
    "ax.set_xlabel('Number of inactive officers')\n",
    "ax.set_ylabel('Count')\n",
    "ax.set_title('Distribution of number of inactive officers for non-suspicious companies')\n",
    ";"
   ]
  },
  {
   "cell_type": "code",
   "execution_count": 457,
   "metadata": {
    "code_folding": [
     0
    ]
   },
   "outputs": [
    {
     "data": {
      "text/plain": [
       "''"
      ]
     },
     "execution_count": 457,
     "metadata": {},
     "output_type": "execute_result"
    },
    {
     "data": {
      "image/png": "[encoded data removed]",
      "text/plain": [
       "<Figure size 1080x216 with 1 Axes>"
      ]
     },
     "metadata": {
      "needs_background": "light"
     },
     "output_type": "display_data"
    }
   ],
   "source": [
    "# Plot number of inactive officers of ml companies\n",
    "x = list(np.unique(comps_df[comps_df.ml==1]['inactive_officers'], return_counts=True)[0])\n",
    "y = list(np.unique(comps_df[comps_df.ml==1]['inactive_officers'], return_counts=True)[1])\n",
    "\n",
    "fig, ax = plt.subplots(figsize=(15,3))\n",
    "sns.barplot(x, y, ax=ax,palette='Blues_r')\n",
    "ax.set_xlabel('Number of inactive officers')\n",
    "ax.set_ylabel('Count')\n",
    "ax.set_title('Distribution of number of inactive officers for suspicious companies')\n",
    ";"
   ]
  },
  {
   "cell_type": "markdown",
   "metadata": {},
   "source": [
    "Having a higher number of inactive officers suggests lots of changes in officer and resignations, this is an unusual occurance for most companies but the data suggests it is more common amongst the suspicious companies."
   ]
  },
  {
   "cell_type": "code",
   "execution_count": 448,
   "metadata": {
    "code_folding": [
     0
    ]
   },
   "outputs": [
    {
     "data": {
      "text/plain": [
       "''"
      ]
     },
     "execution_count": 448,
     "metadata": {},
     "output_type": "execute_result"
    },
    {
     "data": {
      "image/png": "[encoded data removed]",
      "text/plain": [
       "<Figure size 1080x216 with 1 Axes>"
      ]
     },
     "metadata": {
      "needs_background": "light"
     },
     "output_type": "display_data"
    }
   ],
   "source": [
    "# Plot number of human officers for non-ml companies\n",
    "x = list(np.unique(comps_df[comps_df.ml==0]['human_officers'], return_counts=True)[0])\n",
    "y = list(np.unique(comps_df[comps_df.ml==0]['human_officers'], return_counts=True)[1])\n",
    "\n",
    "fig, ax = plt.subplots(figsize=(15,3))\n",
    "sns.barplot(x, y, ax=ax, palette='RdYlBu_r')\n",
    "ax.set_xlabel('Number of human officers')\n",
    "ax.set_ylabel('Count')\n",
    "ax.set_title('Distribution of number of human officers for non-suspicious companies')\n",
    ";"
   ]
  },
  {
   "cell_type": "code",
   "execution_count": 449,
   "metadata": {
    "code_folding": [
     0
    ]
   },
   "outputs": [
    {
     "data": {
      "image/png": "[encoded data removed]",
      "text/plain": [
       "<Figure size 1080x216 with 1 Axes>"
      ]
     },
     "metadata": {
      "needs_background": "light"
     },
     "output_type": "display_data"
    }
   ],
   "source": [
    "# Plot number of human officers for ml companies\n",
    "x = list(np.unique(comps_df[comps_df.ml==1]['human_officers'], return_counts=True)[0])\n",
    "y = list(np.unique(comps_df[comps_df.ml==1]['human_officers'], return_counts=True)[1])\n",
    "\n",
    "fig, ax = plt.subplots(figsize=(15,3))\n",
    "sns.barplot(x, y, ax=ax, palette='RdYlBu_r')\n",
    "ax.set_xlabel('Number of human officers')\n",
    "ax.set_ylabel('Count')\n",
    "ax.set_title('Distribution of number of human officers for suspicious companies')\n",
    "plt.show()"
   ]
  },
  {
   "cell_type": "markdown",
   "metadata": {},
   "source": [
    "Most companies from the population will have between 1 and 2 human officers actaully running the business, however the suspicious companies are unlikely to list any people as officers to avoid having to attribute the shell company to anyone."
   ]
  },
  {
   "cell_type": "code",
   "execution_count": 254,
   "metadata": {
    "code_folding": [
     0
    ]
   },
   "outputs": [
    {
     "data": {
      "image/png": "[encoded data removed]",
      "text/plain": [
       "<Figure size 1080x216 with 1 Axes>"
      ]
     },
     "metadata": {
      "needs_background": "light"
     },
     "output_type": "display_data"
    }
   ],
   "source": [
    "# Plot number of company officers for non-ml companies\n",
    "x = list(np.unique(comps_df[comps_df.ml==0]['company_officers'], return_counts=True)[0])\n",
    "y = list(np.unique(comps_df[comps_df.ml==0]['company_officers'], return_counts=True)[1])\n",
    "\n",
    "fig, ax = plt.subplots(figsize=(15,3))\n",
    "sns.barplot(x, y, ax=ax, palette='RdYlBu_r')\n",
    "ax.set_xlabel('Number of company officers')\n",
    "ax.set_ylabel('Count')\n",
    "ax.set_title('Distribution of number of company officers for suspicious companies')\n",
    "plt.show()"
   ]
  },
  {
   "cell_type": "code",
   "execution_count": 255,
   "metadata": {
    "code_folding": [
     0
    ]
   },
   "outputs": [
    {
     "data": {
      "image/png": "[encoded data removed]",
      "text/plain": [
       "<Figure size 1080x216 with 1 Axes>"
      ]
     },
     "metadata": {
      "needs_background": "light"
     },
     "output_type": "display_data"
    }
   ],
   "source": [
    "# Plot number of company officers for ml companies\n",
    "x = list(np.unique(comps_df[comps_df.ml==1]['company_officers'], return_counts=True)[0])\n",
    "y = list(np.unique(comps_df[comps_df.ml==1]['company_officers'], return_counts=True)[1])\n",
    "\n",
    "fig, ax = plt.subplots(figsize=(15,3))\n",
    "sns.barplot(x, y, ax=ax, palette='Blues_r')\n",
    "ax.set_xlabel('Number of company officers')\n",
    "ax.set_ylabel('Count')\n",
    "ax.set_title('Distribution of number of company officers for suspicious companies')\n",
    "plt.show()"
   ]
  },
  {
   "cell_type": "markdown",
   "metadata": {},
   "source": [
    "It is fairly uncommon for most companies to have a legal entity acting as an officer but for suspicious companies many have multiple \"non-human\" officers."
   ]
  },
  {
   "cell_type": "code",
   "execution_count": 201,
   "metadata": {
    "code_folding": [
     0
    ]
   },
   "outputs": [
    {
     "data": {
      "image/png": "[encoded data removed]",
      "text/plain": [
       "<Figure size 1080x216 with 1 Axes>"
      ]
     },
     "metadata": {
      "needs_background": "light"
     },
     "output_type": "display_data"
    }
   ],
   "source": [
    "# Plot number of active psc for non-ml companies\n",
    "x = list(np.unique(comps_df[comps_df.ml==0]['active_psc'], return_counts=True)[0])\n",
    "y = list(np.unique(comps_df[comps_df.ml==0]['active_psc'], return_counts=True)[1])\n",
    "\n",
    "fig, ax = plt.subplots(figsize=(15,3))\n",
    "sns.barplot(x, y, ax=ax, palette='Blues_r')\n",
    "ax.set_xlabel('Number of active PSC')\n",
    "ax.set_ylabel('Count')\n",
    "ax.set_title('Distribution of number of active PSC for non-suspicious companies')\n",
    "plt.show()"
   ]
  },
  {
   "cell_type": "code",
   "execution_count": 202,
   "metadata": {
    "code_folding": [
     0
    ]
   },
   "outputs": [
    {
     "data": {
      "image/png": "[encoded data removed]",
      "text/plain": [
       "<Figure size 1080x216 with 1 Axes>"
      ]
     },
     "metadata": {
      "needs_background": "light"
     },
     "output_type": "display_data"
    }
   ],
   "source": [
    "# Plot number of active psc for ml companies\n",
    "x = list(np.unique(comps_df[comps_df.ml==1]['active_psc'], return_counts=True)[0])\n",
    "y = list(np.unique(comps_df[comps_df.ml==1]['active_psc'], return_counts=True)[1])\n",
    "\n",
    "fig, ax = plt.subplots(figsize=(15,3))\n",
    "sns.barplot(x, y, ax=ax, palette='Blues_r')\n",
    "ax.set_xlabel('Number of active PSC')\n",
    "ax.set_ylabel('Count')\n",
    "ax.set_title('Distribution of number of active PSC for non-suspicious companies')\n",
    "plt.show()"
   ]
  },
  {
   "cell_type": "markdown",
   "metadata": {},
   "source": [
    "There is a clear pattern that suspicious companies are less likely to have active an PSC, since declaring a PSC became compulsory there is still an exemption to say you do not know who the ultimate PSC is. Again, this is not verified so it is an easy option for companies looking to conceal the identity of their beneficiary."
   ]
  },
  {
   "cell_type": "markdown",
   "metadata": {
    "heading_collapsed": true
   },
   "source": [
    "# Save and export"
   ]
  },
  {
   "cell_type": "code",
   "execution_count": 145,
   "metadata": {
    "code_folding": [],
    "hidden": true
   },
   "outputs": [],
   "source": [
    "# Save dataframes externally\n",
    "comps_df.to_csv('comps_df.csv', index=False)\n",
    "officers_df.to_csv('officers_df.csv', index=False)\n",
    "psc_df.to_csv('psc_df.csv', index=False)\n",
    "filings_df.to_csv('filings_df.csv', index=False)"
   ]
  },
  {
   "cell_type": "code",
   "execution_count": 362,
   "metadata": {
    "hidden": true
   },
   "outputs": [],
   "source": [
    "# Create new dataframe of features to be used for prediction\n",
    "features_df = comps_df.copy()\n",
    "features_df.drop(columns=['name', 'address', 'company_number', 'creation_date', 'dissolved_date'], inplace=True)"
   ]
  },
  {
   "cell_type": "code",
   "execution_count": 364,
   "metadata": {
    "hidden": true
   },
   "outputs": [],
   "source": [
    "# Save new df with feature columns\n",
    "features_df.to_csv('features_df.csv', index=False)"
   ]
  }
 ],
 "metadata": {
  "kernelspec": {
   "display_name": "Python 3",
   "language": "python",
   "name": "python3"
  },
  "language_info": {
   "codemirror_mode": {
    "name": "ipython",
    "version": 3
   },
   "file_extension": ".py",
   "mimetype": "text/x-python",
   "name": "python",
   "nbconvert_exporter": "python",
   "pygments_lexer": "ipython3",
   "version": "3.7.4"
  },
  "toc": {
   "base_numbering": 1,
   "nav_menu": {},
   "number_sections": true,
   "sideBar": true,
   "skip_h1_title": false,
   "title_cell": "Table of Contents",
   "title_sidebar": "Contents",
   "toc_cell": false,
   "toc_position": {},
   "toc_section_display": true,
   "toc_window_display": true
  },
  "varInspector": {
   "cols": {
    "lenName": 16,
    "lenType": 16,
    "lenVar": 40
   },
   "kernels_config": {
    "python": {
     "delete_cmd_postfix": "",
     "delete_cmd_prefix": "del ",
     "library": "var_list.py",
     "varRefreshCmd": "print(var_dic_list())"
    },
    "r": {
     "delete_cmd_postfix": ") ",
     "delete_cmd_prefix": "rm(",
     "library": "var_list.r",
     "varRefreshCmd": "cat(var_dic_list()) "
    }
   },
   "types_to_exclude": [
    "module",
    "function",
    "builtin_function_or_method",
    "instance",
    "_Feature"
   ],
   "window_display": false
  }
 },
 "nbformat": 4,
 "nbformat_minor": 2
}
